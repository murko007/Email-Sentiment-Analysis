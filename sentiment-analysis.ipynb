{
 "cells": [
  {
   "cell_type": "markdown",
   "metadata": {
    "papermill": {
     "duration": 0.036434,
     "end_time": "2021-06-20T03:15:38.200069",
     "exception": false,
     "start_time": "2021-06-20T03:15:38.163635",
     "status": "completed"
    },
    "tags": []
   },
   "source": [
    "# dataset и исходный JNotebook взяла здесь \n",
    "https://www.kaggle.com/chromerai/sentiment-analysis-rnn"
   ]
  },
  {
   "cell_type": "code",
   "execution_count": 300,
   "metadata": {
    "_cell_guid": "b1076dfc-b9ad-4769-8c92-a6c4dae69d19",
    "_uuid": "8f2839f25d086af736a60e9eeb907d3b93b6e0e5",
    "execution": {
     "iopub.execute_input": "2021-06-20T03:15:38.266031Z",
     "iopub.status.busy": "2021-06-20T03:15:38.264553Z",
     "iopub.status.idle": "2021-06-20T03:15:38.277604Z",
     "shell.execute_reply": "2021-06-20T03:15:38.276874Z",
     "shell.execute_reply.started": "2021-06-20T02:37:55.456422Z"
    },
    "papermill": {
     "duration": 0.042291,
     "end_time": "2021-06-20T03:15:38.277785",
     "exception": false,
     "start_time": "2021-06-20T03:15:38.235494",
     "status": "completed"
    },
    "tags": []
   },
   "outputs": [],
   "source": [
    "# This Python 3 environment comes with many helpful analytics libraries installed\n",
    "# It is defined by the kaggle/python Docker image: https://github.com/kaggle/docker-python\n",
    "# For example, here's several helpful packages to load\n",
    "\n",
    "import numpy as np # linear algebra\n",
    "import pandas as pd # data processing, CSV file I/O (e.g. pd.read_csv)\n",
    "\n",
    "# Input data files are available in the read-only \"../input/\" directory\n",
    "# For example, running this (by clicking run or pressing Shift+Enter) will list all files under the input directory\n",
    "\n",
    "\n",
    "# You can write up to 20GB to the current directory (/kaggle/working/) that gets preserved as output when you create a version using \"Save & Run All\" \n",
    "# You can also write temporary files to /kaggle/temp/, but they won't be saved outside of the current session"
   ]
  },
  {
   "cell_type": "code",
   "execution_count": 301,
   "metadata": {
    "execution": {
     "iopub.execute_input": "2021-06-20T03:15:38.365985Z",
     "iopub.status.busy": "2021-06-20T03:15:38.365125Z",
     "iopub.status.idle": "2021-06-20T03:15:43.592284Z",
     "shell.execute_reply": "2021-06-20T03:15:43.592768Z",
     "shell.execute_reply.started": "2021-06-20T02:37:55.472561Z"
    },
    "papermill": {
     "duration": 5.273652,
     "end_time": "2021-06-20T03:15:43.592940",
     "exception": false,
     "start_time": "2021-06-20T03:15:38.319288",
     "status": "completed"
    },
    "tags": []
   },
   "outputs": [],
   "source": [
    "import matplotlib.pyplot as plt\n",
    "import tensorflow as tf\n",
    "\n",
    "from  tensorflow.keras.preprocessing.text import Tokenizer\n",
    "from  tensorflow.keras.preprocessing.sequence import pad_sequences"
   ]
  },
  {
   "cell_type": "code",
   "execution_count": 302,
   "metadata": {
    "execution": {
     "iopub.execute_input": "2021-06-20T03:15:45.513399Z",
     "iopub.status.busy": "2021-06-20T03:15:45.512761Z",
     "iopub.status.idle": "2021-06-20T03:15:45.773472Z",
     "shell.execute_reply": "2021-06-20T03:15:45.772928Z",
     "shell.execute_reply.started": "2021-06-20T02:37:57.702640Z"
    },
    "papermill": {
     "duration": 0.289755,
     "end_time": "2021-06-20T03:15:45.773626",
     "exception": false,
     "start_time": "2021-06-20T03:15:45.483871",
     "status": "completed"
    },
    "tags": []
   },
   "outputs": [
    {
     "data": {
      "text/html": [
       "<div>\n",
       "<style scoped>\n",
       "    .dataframe tbody tr th:only-of-type {\n",
       "        vertical-align: middle;\n",
       "    }\n",
       "\n",
       "    .dataframe tbody tr th {\n",
       "        vertical-align: top;\n",
       "    }\n",
       "\n",
       "    .dataframe thead th {\n",
       "        text-align: right;\n",
       "    }\n",
       "</style>\n",
       "<table border=\"1\" class=\"dataframe\">\n",
       "  <thead>\n",
       "    <tr style=\"text-align: right;\">\n",
       "      <th></th>\n",
       "      <th>PhraseId</th>\n",
       "      <th>SentenceId</th>\n",
       "      <th>Phrase</th>\n",
       "      <th>Sentiment</th>\n",
       "    </tr>\n",
       "  </thead>\n",
       "  <tbody>\n",
       "    <tr>\n",
       "      <th>0</th>\n",
       "      <td>1</td>\n",
       "      <td>1</td>\n",
       "      <td>A series of escapades demonstrating the adage ...</td>\n",
       "      <td>1</td>\n",
       "    </tr>\n",
       "    <tr>\n",
       "      <th>1</th>\n",
       "      <td>2</td>\n",
       "      <td>1</td>\n",
       "      <td>A series of escapades demonstrating the adage ...</td>\n",
       "      <td>2</td>\n",
       "    </tr>\n",
       "    <tr>\n",
       "      <th>2</th>\n",
       "      <td>3</td>\n",
       "      <td>1</td>\n",
       "      <td>A series</td>\n",
       "      <td>2</td>\n",
       "    </tr>\n",
       "    <tr>\n",
       "      <th>3</th>\n",
       "      <td>4</td>\n",
       "      <td>1</td>\n",
       "      <td>A</td>\n",
       "      <td>2</td>\n",
       "    </tr>\n",
       "    <tr>\n",
       "      <th>4</th>\n",
       "      <td>5</td>\n",
       "      <td>1</td>\n",
       "      <td>series</td>\n",
       "      <td>2</td>\n",
       "    </tr>\n",
       "  </tbody>\n",
       "</table>\n",
       "</div>"
      ],
      "text/plain": [
       "   PhraseId  SentenceId                                             Phrase  \\\n",
       "0         1           1  A series of escapades demonstrating the adage ...   \n",
       "1         2           1  A series of escapades demonstrating the adage ...   \n",
       "2         3           1                                           A series   \n",
       "3         4           1                                                  A   \n",
       "4         5           1                                             series   \n",
       "\n",
       "   Sentiment  \n",
       "0          1  \n",
       "1          2  \n",
       "2          2  \n",
       "3          2  \n",
       "4          2  "
      ]
     },
     "execution_count": 302,
     "metadata": {},
     "output_type": "execute_result"
    }
   ],
   "source": [
    "train_data = pd.read_csv('train.tsv.zip', sep = '\\t')\n",
    "train_data.head()"
   ]
  },
  {
   "cell_type": "code",
   "execution_count": 303,
   "metadata": {
    "execution": {
     "iopub.execute_input": "2021-06-20T03:15:45.843162Z",
     "iopub.status.busy": "2021-06-20T03:15:45.842422Z",
     "iopub.status.idle": "2021-06-20T03:15:45.856651Z",
     "shell.execute_reply": "2021-06-20T03:15:45.857216Z",
     "shell.execute_reply.started": "2021-06-20T02:37:57.885855Z"
    },
    "papermill": {
     "duration": 0.057545,
     "end_time": "2021-06-20T03:15:45.857414",
     "exception": false,
     "start_time": "2021-06-20T03:15:45.799869",
     "status": "completed"
    },
    "tags": []
   },
   "outputs": [
    {
     "name": "stdout",
     "output_type": "stream",
     "text": [
      "<class 'pandas.core.frame.DataFrame'>\n",
      "RangeIndex: 156060 entries, 0 to 156059\n",
      "Data columns (total 4 columns):\n",
      " #   Column      Non-Null Count   Dtype \n",
      "---  ------      --------------   ----- \n",
      " 0   PhraseId    156060 non-null  int64 \n",
      " 1   SentenceId  156060 non-null  int64 \n",
      " 2   Phrase      156060 non-null  object\n",
      " 3   Sentiment   156060 non-null  int64 \n",
      "dtypes: int64(3), object(1)\n",
      "memory usage: 4.8+ MB\n"
     ]
    }
   ],
   "source": [
    "train_data.info()"
   ]
  },
  {
   "cell_type": "code",
   "execution_count": 304,
   "metadata": {
    "execution": {
     "iopub.execute_input": "2021-06-20T03:15:45.914695Z",
     "iopub.status.busy": "2021-06-20T03:15:45.914102Z",
     "iopub.status.idle": "2021-06-20T03:15:45.918805Z",
     "shell.execute_reply": "2021-06-20T03:15:45.919202Z",
     "shell.execute_reply.started": "2021-06-20T02:37:57.918808Z"
    },
    "papermill": {
     "duration": 0.034516,
     "end_time": "2021-06-20T03:15:45.919349",
     "exception": false,
     "start_time": "2021-06-20T03:15:45.884833",
     "status": "completed"
    },
    "tags": []
   },
   "outputs": [
    {
     "data": {
      "text/plain": [
       "(156060, 4)"
      ]
     },
     "execution_count": 304,
     "metadata": {},
     "output_type": "execute_result"
    }
   ],
   "source": [
    "train_data.shape"
   ]
  },
  {
   "cell_type": "markdown",
   "metadata": {
    "execution": {
     "iopub.execute_input": "2021-06-20T03:15:45.976118Z",
     "iopub.status.busy": "2021-06-20T03:15:45.975530Z",
     "iopub.status.idle": "2021-06-20T03:15:46.062293Z",
     "shell.execute_reply": "2021-06-20T03:15:46.062811Z",
     "shell.execute_reply.started": "2021-06-20T02:37:57.930724Z"
    },
    "papermill": {
     "duration": 0.116964,
     "end_time": "2021-06-20T03:15:46.062968",
     "exception": false,
     "start_time": "2021-06-20T03:15:45.946004",
     "status": "completed"
    },
    "tags": []
   },
   "source": [
    "# Загружаю тестовые данные свои"
   ]
  },
  {
   "cell_type": "code",
   "execution_count": 305,
   "metadata": {},
   "outputs": [],
   "source": [
    "test_data=pd.read_csv(\"test.csv\")\n",
    "test_data.head()\n",
    "test_data = test_data.rename(columns={'email_body': 'Phrase', \"id\":\"SentenceId\"})\n",
    "test_data[\"PhraseId\"]=test_data[\"SentenceId\"]"
   ]
  },
  {
   "cell_type": "code",
   "execution_count": 306,
   "metadata": {},
   "outputs": [
    {
     "data": {
      "text/html": [
       "<div>\n",
       "<style scoped>\n",
       "    .dataframe tbody tr th:only-of-type {\n",
       "        vertical-align: middle;\n",
       "    }\n",
       "\n",
       "    .dataframe tbody tr th {\n",
       "        vertical-align: top;\n",
       "    }\n",
       "\n",
       "    .dataframe thead th {\n",
       "        text-align: right;\n",
       "    }\n",
       "</style>\n",
       "<table border=\"1\" class=\"dataframe\">\n",
       "  <thead>\n",
       "    <tr style=\"text-align: right;\">\n",
       "      <th></th>\n",
       "      <th>SentenceId</th>\n",
       "      <th>Phrase</th>\n",
       "      <th>PhraseId</th>\n",
       "    </tr>\n",
       "  </thead>\n",
       "  <tbody>\n",
       "    <tr>\n",
       "      <th>0</th>\n",
       "      <td>0</td>\n",
       "      <td>Hi Don,\\n\\n \\n\\n4pm does not work unfortunatel...</td>\n",
       "      <td>0</td>\n",
       "    </tr>\n",
       "    <tr>\n",
       "      <th>1</th>\n",
       "      <td>1</td>\n",
       "      <td>Sorry, Greg. I’ve been buried this week. I’m d...</td>\n",
       "      <td>1</td>\n",
       "    </tr>\n",
       "    <tr>\n",
       "      <th>2</th>\n",
       "      <td>2</td>\n",
       "      <td>Hey Paul,\\n\\n \\n\\nThanks for the time on the c...</td>\n",
       "      <td>2</td>\n",
       "    </tr>\n",
       "    <tr>\n",
       "      <th>3</th>\n",
       "      <td>3</td>\n",
       "      <td>Hi,\\n\\n \\n\\nIncluding one of my Admins who wor...</td>\n",
       "      <td>3</td>\n",
       "    </tr>\n",
       "    <tr>\n",
       "      <th>4</th>\n",
       "      <td>4</td>\n",
       "      <td>Hello Momin,\\n\\n \\n\\nTo follow up on our last ...</td>\n",
       "      <td>4</td>\n",
       "    </tr>\n",
       "  </tbody>\n",
       "</table>\n",
       "</div>"
      ],
      "text/plain": [
       "   SentenceId                                             Phrase  PhraseId\n",
       "0           0  Hi Don,\\n\\n \\n\\n4pm does not work unfortunatel...         0\n",
       "1           1  Sorry, Greg. I’ve been buried this week. I’m d...         1\n",
       "2           2  Hey Paul,\\n\\n \\n\\nThanks for the time on the c...         2\n",
       "3           3  Hi,\\n\\n \\n\\nIncluding one of my Admins who wor...         3\n",
       "4           4  Hello Momin,\\n\\n \\n\\nTo follow up on our last ...         4"
      ]
     },
     "execution_count": 306,
     "metadata": {},
     "output_type": "execute_result"
    }
   ],
   "source": [
    "test_data.head()"
   ]
  },
  {
   "cell_type": "code",
   "execution_count": 307,
   "metadata": {
    "execution": {
     "iopub.execute_input": "2021-06-20T03:15:46.128737Z",
     "iopub.status.busy": "2021-06-20T03:15:46.127933Z",
     "iopub.status.idle": "2021-06-20T03:15:46.136450Z",
     "shell.execute_reply": "2021-06-20T03:15:46.136899Z",
     "shell.execute_reply.started": "2021-06-20T02:37:58.007147Z"
    },
    "papermill": {
     "duration": 0.046535,
     "end_time": "2021-06-20T03:15:46.137033",
     "exception": false,
     "start_time": "2021-06-20T03:15:46.090498",
     "status": "completed"
    },
    "tags": []
   },
   "outputs": [
    {
     "name": "stdout",
     "output_type": "stream",
     "text": [
      "(100, 3)\n",
      "<class 'pandas.core.frame.DataFrame'>\n",
      "RangeIndex: 100 entries, 0 to 99\n",
      "Data columns (total 3 columns):\n",
      " #   Column      Non-Null Count  Dtype \n",
      "---  ------      --------------  ----- \n",
      " 0   SentenceId  100 non-null    int64 \n",
      " 1   Phrase      100 non-null    object\n",
      " 2   PhraseId    100 non-null    int64 \n",
      "dtypes: int64(2), object(1)\n",
      "memory usage: 2.5+ KB\n"
     ]
    }
   ],
   "source": [
    "print(test_data.shape)\n",
    "test_data.info()"
   ]
  },
  {
   "cell_type": "code",
   "execution_count": 308,
   "metadata": {
    "execution": {
     "iopub.execute_input": "2021-06-20T03:15:46.198103Z",
     "iopub.status.busy": "2021-06-20T03:15:46.197399Z",
     "iopub.status.idle": "2021-06-20T03:15:46.200928Z",
     "shell.execute_reply": "2021-06-20T03:15:46.200500Z",
     "shell.execute_reply.started": "2021-06-20T02:37:58.025756Z"
    },
    "papermill": {
     "duration": 0.034881,
     "end_time": "2021-06-20T03:15:46.201065",
     "exception": false,
     "start_time": "2021-06-20T03:15:46.166184",
     "status": "completed"
    },
    "tags": []
   },
   "outputs": [
    {
     "data": {
      "text/plain": [
       "Index(['PhraseId', 'SentenceId', 'Phrase', 'Sentiment'], dtype='object')"
      ]
     },
     "execution_count": 308,
     "metadata": {},
     "output_type": "execute_result"
    }
   ],
   "source": [
    "train_data.columns"
   ]
  },
  {
   "cell_type": "markdown",
   "metadata": {},
   "source": [
    "## Imbalanced dataset\n",
    "### делаю oversampling"
   ]
  },
  {
   "cell_type": "code",
   "execution_count": 309,
   "metadata": {
    "execution": {
     "iopub.execute_input": "2021-06-20T03:15:46.399664Z",
     "iopub.status.busy": "2021-06-20T03:15:46.398922Z",
     "iopub.status.idle": "2021-06-20T03:15:49.234608Z",
     "shell.execute_reply": "2021-06-20T03:15:49.234144Z",
     "shell.execute_reply.started": "2021-06-20T02:37:58.060294Z"
    },
    "papermill": {
     "duration": 2.868298,
     "end_time": "2021-06-20T03:15:49.234735",
     "exception": false,
     "start_time": "2021-06-20T03:15:46.366437",
     "status": "completed"
    },
    "tags": []
   },
   "outputs": [
    {
     "data": {
      "image/png": "[encoded data removed]",
      "text/plain": [
       "<Figure size 432x288 with 1 Axes>"
      ]
     },
     "metadata": {
      "needs_background": "light"
     },
     "output_type": "display_data"
    }
   ],
   "source": [
    "val_array = train_data['Sentiment'].value_counts()\n",
    "plt.bar(val_array.index, val_array)\n",
    "plt.xlabel('review rating/Sentiments')\n",
    "plt.ylabel('No of reviews')\n",
    "plt.show()"
   ]
  },
  {
   "cell_type": "code",
   "execution_count": 310,
   "metadata": {},
   "outputs": [],
   "source": [
    "count_class_0, count_class_1,count_class_2, count_class_3, count_class_4  = train_data.Sentiment.value_counts()\n",
    "\n",
    "# Divide by class\n",
    "df_class_0 = train_data[train_data['Sentiment'] == 0]\n",
    "df_class_1 = train_data[train_data['Sentiment'] == 1]\n",
    "df_class_2 = train_data[train_data['Sentiment'] == 2]\n",
    "df_class_3 = train_data[train_data['Sentiment'] == 3]\n",
    "df_class_4 = train_data[train_data['Sentiment'] == 4]\n",
    "\n",
    "\n",
    "df_class_0_under = df_class_0.sample(count_class_0, replace=True)\n",
    "df_class_1_under = df_class_1.sample(count_class_0, replace=True)\n",
    "df_class_4_under = df_class_4.sample(count_class_0, replace=True)\n",
    "df_class_3_under = df_class_3.sample(count_class_0, replace=True)\n",
    "\n",
    "train_data = pd.concat([df_class_0_under,df_class_1_under,df_class_4_under, df_class_3_under, df_class_2], axis=0)"
   ]
  },
  {
   "cell_type": "code",
   "execution_count": 311,
   "metadata": {},
   "outputs": [
    {
     "data": {
      "image/png": "[encoded data removed]",
      "text/plain": [
       "<Figure size 432x288 with 1 Axes>"
      ]
     },
     "metadata": {
      "needs_background": "light"
     },
     "output_type": "display_data"
    }
   ],
   "source": [
    "val_array = train_data['Sentiment'].value_counts()\n",
    "plt.bar(val_array.index, val_array)\n",
    "plt.xlabel('review rating/Sentiments')\n",
    "plt.ylabel('No of reviews')\n",
    "plt.show()"
   ]
  },
  {
   "cell_type": "markdown",
   "metadata": {},
   "source": [
    "## Preprocessing осталвяю без изменений"
   ]
  },
  {
   "cell_type": "code",
   "execution_count": 182,
   "metadata": {
    "execution": {
     "iopub.execute_input": "2021-06-20T03:16:37.995081Z",
     "iopub.status.busy": "2021-06-20T03:16:37.994518Z",
     "iopub.status.idle": "2021-06-20T03:16:38.409385Z",
     "shell.execute_reply": "2021-06-20T03:16:38.408759Z",
     "shell.execute_reply.started": "2021-06-20T02:38:47.543337Z"
    },
    "papermill": {
     "duration": 0.45343,
     "end_time": "2021-06-20T03:16:38.409523",
     "exception": false,
     "start_time": "2021-06-20T03:16:37.956093",
     "status": "completed"
    },
    "tags": []
   },
   "outputs": [],
   "source": [
    "from tqdm import tqdm\n",
    "\n",
    "import nltk\n",
    "from nltk.tokenize import word_tokenize\n",
    "from nltk.stem import WordNetLemmatizer\n",
    "from nltk.corpus import stopwords\n",
    "\n",
    "import re"
   ]
  },
  {
   "cell_type": "code",
   "execution_count": 183,
   "metadata": {
    "execution": {
     "iopub.execute_input": "2021-06-20T03:16:38.483777Z",
     "iopub.status.busy": "2021-06-20T03:16:38.482964Z",
     "iopub.status.idle": "2021-06-20T03:16:38.485114Z",
     "shell.execute_reply": "2021-06-20T03:16:38.485542Z",
     "shell.execute_reply.started": "2021-06-20T02:38:47.687858Z"
    },
    "papermill": {
     "duration": 0.042401,
     "end_time": "2021-06-20T03:16:38.485689",
     "exception": false,
     "start_time": "2021-06-20T03:16:38.443288",
     "status": "completed"
    },
    "tags": []
   },
   "outputs": [],
   "source": [
    "def clean_sentences(df):\n",
    "    \n",
    "    reviews = []\n",
    "    for sent in tqdm(df['Phrase']):\n",
    "        # removing non-alphabetical characters \n",
    "        text = re.sub(\"[^a-zA-Z]\",\" \",sent)\n",
    "        \n",
    "        # Now tokenizing the sentence : \n",
    "        words = word_tokenize(text.lower())\n",
    "        \n",
    "        #removing stop words :\n",
    "        new_words = [ ele for ele in words if ele.lower() not in stopwords.words('english') ]\n",
    "        \n",
    "        # Lemmatizing each word to its lemma\n",
    "        lem = WordNetLemmatizer()\n",
    "        lem_words = [lem.lemmatize(i) for i in new_words]\n",
    "        \n",
    "        #finally\n",
    "        reviews.append(lem_words)\n",
    "        \n",
    "    return(reviews)\n"
   ]
  },
  {
   "cell_type": "code",
   "execution_count": null,
   "metadata": {},
   "outputs": [],
   "source": []
  },
  {
   "cell_type": "code",
   "execution_count": 184,
   "metadata": {
    "execution": {
     "iopub.execute_input": "2021-06-20T03:16:38.558737Z",
     "iopub.status.busy": "2021-06-20T03:16:38.558071Z",
     "iopub.status.idle": "2021-06-20T03:20:13.541224Z",
     "shell.execute_reply": "2021-06-20T03:20:13.541843Z",
     "shell.execute_reply.started": "2021-06-20T02:38:47.695592Z"
    },
    "papermill": {
     "duration": 215.022718,
     "end_time": "2021-06-20T03:20:13.542011",
     "exception": false,
     "start_time": "2021-06-20T03:16:38.519293",
     "status": "completed"
    },
    "tags": []
   },
   "outputs": [
    {
     "name": "stderr",
     "output_type": "stream",
     "text": [
      "100%|█████████████████████████████████████████████████████████████████████████| 397910/397910 [14:37<00:00, 453.33it/s]\n",
      "100%|███████████████████████████████████████████████████████████████████████████████| 100/100 [00:00<00:00, 129.32it/s]"
     ]
    },
    {
     "name": "stdout",
     "output_type": "stream",
     "text": [
      "397910\n",
      "100\n",
      "Wall time: 14min 38s\n"
     ]
    },
    {
     "name": "stderr",
     "output_type": "stream",
     "text": [
      "\n"
     ]
    }
   ],
   "source": [
    "%%time\n",
    "train_sentences = clean_sentences(train_data)\n",
    "test_sentences = clean_sentences(test_data)\n",
    "\n",
    "print(len(train_sentences))\n",
    "print(len(test_sentences))"
   ]
  },
  {
   "cell_type": "code",
   "execution_count": 187,
   "metadata": {
    "execution": {
     "iopub.execute_input": "2021-06-20T03:20:15.949014Z",
     "iopub.status.busy": "2021-06-20T03:20:15.947985Z",
     "iopub.status.idle": "2021-06-20T03:20:15.952875Z",
     "shell.execute_reply": "2021-06-20T03:20:15.952454Z",
     "shell.execute_reply.started": "2021-06-20T02:42:17.265618Z"
    },
    "papermill": {
     "duration": 0.590231,
     "end_time": "2021-06-20T03:20:15.952991",
     "exception": false,
     "start_time": "2021-06-20T03:20:15.362760",
     "status": "completed"
    },
    "tags": []
   },
   "outputs": [],
   "source": [
    "from tensorflow.keras.utils import to_categorical\n",
    "\n",
    "y_target = to_categorical(train_data['Sentiment'].values)\n"
   ]
  },
  {
   "cell_type": "code",
   "execution_count": null,
   "metadata": {
    "execution": {
     "iopub.execute_input": "2021-06-20T03:20:17.021343Z",
     "iopub.status.busy": "2021-06-20T03:20:17.020684Z",
     "iopub.status.idle": "2021-06-20T03:20:17.023628Z",
     "shell.execute_reply": "2021-06-20T03:20:17.024045Z",
     "shell.execute_reply.started": "2021-06-20T02:42:17.279379Z"
    },
    "papermill": {
     "duration": 0.536196,
     "end_time": "2021-06-20T03:20:17.024179",
     "exception": false,
     "start_time": "2021-06-20T03:20:16.487983",
     "status": "completed"
    },
    "tags": []
   },
   "outputs": [],
   "source": [
    "y_target"
   ]
  },
  {
   "cell_type": "markdown",
   "metadata": {
    "papermill": {
     "duration": 0.541662,
     "end_time": "2021-06-20T03:20:18.098925",
     "exception": false,
     "start_time": "2021-06-20T03:20:17.557263",
     "status": "completed"
    },
    "tags": []
   },
   "source": [
    "The sentiment labels are:\n",
    "\n",
    "0 - negative\n",
    "\n",
    "1 - somewhat negative\n",
    "\n",
    "2 - neutral\n",
    "\n",
    "3 - somewhat positive\n",
    "\n",
    "4 - positive\n",
    "\n",
    "Set Training & Validation set to 80/20"
   ]
  },
  {
   "cell_type": "code",
   "execution_count": 188,
   "metadata": {
    "execution": {
     "iopub.execute_input": "2021-06-20T03:20:19.164975Z",
     "iopub.status.busy": "2021-06-20T03:20:19.164077Z",
     "iopub.status.idle": "2021-06-20T03:20:20.628561Z",
     "shell.execute_reply": "2021-06-20T03:20:20.628067Z",
     "shell.execute_reply.started": "2021-06-20T02:42:17.288366Z"
    },
    "papermill": {
     "duration": 2.000114,
     "end_time": "2021-06-20T03:20:20.628684",
     "exception": false,
     "start_time": "2021-06-20T03:20:18.628570",
     "status": "completed"
    },
    "tags": []
   },
   "outputs": [],
   "source": [
    "from sklearn.model_selection import train_test_split\n",
    "\n",
    "X_train,X_val,y_train,y_val = train_test_split(train_sentences,y_target,test_size = 0.2,stratify = y_target)"
   ]
  },
  {
   "cell_type": "code",
   "execution_count": null,
   "metadata": {
    "execution": {
     "iopub.execute_input": "2021-06-20T03:20:21.696794Z",
     "iopub.status.busy": "2021-06-20T03:20:21.696096Z",
     "iopub.status.idle": "2021-06-20T03:20:21.700585Z",
     "shell.execute_reply": "2021-06-20T03:20:21.700146Z",
     "shell.execute_reply.started": "2021-06-20T02:42:18.708634Z"
    },
    "papermill": {
     "duration": 0.53652,
     "end_time": "2021-06-20T03:20:21.700697",
     "exception": false,
     "start_time": "2021-06-20T03:20:21.164177",
     "status": "completed"
    },
    "tags": []
   },
   "outputs": [],
   "source": [
    "X_train[0]"
   ]
  },
  {
   "cell_type": "code",
   "execution_count": 189,
   "metadata": {
    "execution": {
     "iopub.execute_input": "2021-06-20T03:20:22.795677Z",
     "iopub.status.busy": "2021-06-20T03:20:22.794859Z",
     "iopub.status.idle": "2021-06-20T03:20:22.979992Z",
     "shell.execute_reply": "2021-06-20T03:20:22.978276Z",
     "shell.execute_reply.started": "2021-06-20T02:42:18.716355Z"
    },
    "papermill": {
     "duration": 0.734303,
     "end_time": "2021-06-20T03:20:22.980150",
     "exception": false,
     "start_time": "2021-06-20T03:20:22.245847",
     "status": "completed"
    },
    "tags": []
   },
   "outputs": [
    {
     "name": "stderr",
     "output_type": "stream",
     "text": [
      "100%|██████████████████████████████████████████████████████████████████████| 318328/318328 [00:00<00:00, 637545.52it/s]"
     ]
    },
    {
     "name": "stdout",
     "output_type": "stream",
     "text": [
      "Words in vocab :  13614\n",
      "Max_length :  30\n"
     ]
    },
    {
     "name": "stderr",
     "output_type": "stream",
     "text": [
      "\n"
     ]
    }
   ],
   "source": [
    "unique_words = set()\n",
    "len_max = -1\n",
    "\n",
    "for sent in tqdm(X_train):\n",
    "    unique_words.update(sent)\n",
    "    if(len_max < len(sent)):\n",
    "        len_max = len(sent)\n",
    "\n",
    "print('Words in vocab : ' , len(list(unique_words)))\n",
    "print('Max_length : ' , len_max)"
   ]
  },
  {
   "cell_type": "markdown",
   "metadata": {
    "papermill": {
     "duration": 0.540265,
     "end_time": "2021-06-20T03:20:24.065472",
     "exception": false,
     "start_time": "2021-06-20T03:20:23.525207",
     "status": "completed"
    },
    "tags": []
   },
   "source": [
    "Now tokenizing the data set :"
   ]
  },
  {
   "cell_type": "code",
   "execution_count": 190,
   "metadata": {
    "execution": {
     "iopub.execute_input": "2021-06-20T03:20:25.153179Z",
     "iopub.status.busy": "2021-06-20T03:20:25.152213Z",
     "iopub.status.idle": "2021-06-20T03:20:25.155056Z",
     "shell.execute_reply": "2021-06-20T03:20:25.154577Z",
     "shell.execute_reply.started": "2021-06-20T02:42:18.902733Z"
    },
    "papermill": {
     "duration": 0.548246,
     "end_time": "2021-06-20T03:20:25.155189",
     "exception": false,
     "start_time": "2021-06-20T03:20:24.606943",
     "status": "completed"
    },
    "tags": []
   },
   "outputs": [],
   "source": [
    "vocab_size = len(list(unique_words))\n",
    "embedding_dim = 300\n",
    "max_length = len_max\n",
    "trunc_type = 'post'\n",
    "padding_type = 'post'\n",
    "oov_tok = '<OOV>'"
   ]
  },
  {
   "cell_type": "code",
   "execution_count": 191,
   "metadata": {
    "execution": {
     "iopub.execute_input": "2021-06-20T03:20:26.583232Z",
     "iopub.status.busy": "2021-06-20T03:20:26.578077Z",
     "iopub.status.idle": "2021-06-20T03:20:29.513737Z",
     "shell.execute_reply": "2021-06-20T03:20:29.513093Z",
     "shell.execute_reply.started": "2021-06-20T02:42:18.910381Z"
    },
    "papermill": {
     "duration": 3.783742,
     "end_time": "2021-06-20T03:20:29.513921",
     "exception": false,
     "start_time": "2021-06-20T03:20:25.730179",
     "status": "completed"
    },
    "tags": []
   },
   "outputs": [
    {
     "name": "stdout",
     "output_type": "stream",
     "text": [
      "Wall time: 5.38 s\n"
     ]
    }
   ],
   "source": [
    "%%time\n",
    "tokenizer = Tokenizer(num_words = vocab_size,\n",
    "                      # filters = '#$%&()*+,-./:;<=>?@[\\\\]^_`{|}~\\t\\n',\n",
    "                      oov_token = oov_tok,\n",
    "                      # lower = True,\n",
    "                      char_level = False)\n",
    "\n",
    "tokenizer.fit_on_texts(list(X_train))\n",
    "\n",
    "# Training\n",
    "X_train = tokenizer.texts_to_sequences(X_train)\n",
    "X_train = pad_sequences(X_train,\n",
    "                        maxlen = max_length,\n",
    "                        padding = padding_type,\n",
    "                        truncating = trunc_type)\n",
    "\n",
    "# Validation\n",
    "X_val = tokenizer.texts_to_sequences(X_val)\n",
    "X_val = pad_sequences(X_val,\n",
    "                      maxlen = max_length,\n",
    "                      padding = padding_type,\n",
    "                      truncating = trunc_type)\n",
    "\n",
    "# Testing\n",
    "X_test = tokenizer.texts_to_sequences(test_sentences)\n",
    "X_test = pad_sequences(X_test,\n",
    "                       maxlen = max_length,\n",
    "                       padding = padding_type,\n",
    "                       truncating = trunc_type)"
   ]
  },
  {
   "cell_type": "code",
   "execution_count": 192,
   "metadata": {
    "execution": {
     "iopub.execute_input": "2021-06-20T03:20:31.075341Z",
     "iopub.status.busy": "2021-06-20T03:20:31.074380Z",
     "iopub.status.idle": "2021-06-20T03:20:31.078008Z",
     "shell.execute_reply": "2021-06-20T03:20:31.078624Z",
     "shell.execute_reply.started": "2021-06-20T02:42:21.658913Z"
    },
    "papermill": {
     "duration": 0.918532,
     "end_time": "2021-06-20T03:20:31.078818",
     "exception": false,
     "start_time": "2021-06-20T03:20:30.160286",
     "status": "completed"
    },
    "tags": []
   },
   "outputs": [
    {
     "name": "stdout",
     "output_type": "stream",
     "text": [
      "X_training shape   :  (318328, 30)\n",
      "X_validation shape :  (79582, 30)\n",
      "X_testing shape    :  (100, 30)\n"
     ]
    }
   ],
   "source": [
    "print(\"X_training shape   : \",X_train.shape)\n",
    "print(\"X_validation shape : \",X_val.shape)\n",
    "print(\"X_testing shape    : \",X_test.shape)"
   ]
  },
  {
   "cell_type": "code",
   "execution_count": 193,
   "metadata": {},
   "outputs": [
    {
     "data": {
      "text/plain": [
       "array([[    9,    46,   324, ...,     0,     0,     0],\n",
       "       [  715,   732,    36, ...,     0,     0,     0],\n",
       "       [  192,     0,     0, ...,     0,     0,     0],\n",
       "       ...,\n",
       "       [ 2694,  3389, 10589, ...,     0,     0,     0],\n",
       "       [ 7242,   110,   239, ...,     0,     0,     0],\n",
       "       [   72,     0,     0, ...,     0,     0,     0]])"
      ]
     },
     "execution_count": 193,
     "metadata": {},
     "output_type": "execute_result"
    }
   ],
   "source": [
    "X_train"
   ]
  },
  {
   "cell_type": "code",
   "execution_count": 194,
   "metadata": {
    "execution": {
     "iopub.execute_input": "2021-06-20T03:20:32.253477Z",
     "iopub.status.busy": "2021-06-20T03:20:32.252684Z",
     "iopub.status.idle": "2021-06-20T03:20:32.256190Z",
     "shell.execute_reply": "2021-06-20T03:20:32.256806Z",
     "shell.execute_reply.started": "2021-06-20T02:42:21.667002Z"
    },
    "papermill": {
     "duration": 0.581382,
     "end_time": "2021-06-20T03:20:32.257006",
     "exception": false,
     "start_time": "2021-06-20T03:20:31.675624",
     "status": "completed"
    },
    "tags": []
   },
   "outputs": [
    {
     "name": "stdout",
     "output_type": "stream",
     "text": [
      "[192   0   0   0   0   0   0   0   0   0   0   0   0   0   0   0   0   0\n",
      "   0   0   0   0   0   0   0   0   0   0   0   0]\n"
     ]
    }
   ],
   "source": [
    "print(X_train[2])"
   ]
  },
  {
   "cell_type": "code",
   "execution_count": 195,
   "metadata": {
    "execution": {
     "iopub.execute_input": "2021-06-20T03:20:33.370793Z",
     "iopub.status.busy": "2021-06-20T03:20:33.370171Z",
     "iopub.status.idle": "2021-06-20T03:20:33.374913Z",
     "shell.execute_reply": "2021-06-20T03:20:33.374404Z",
     "shell.execute_reply.started": "2021-06-20T02:42:21.676507Z"
    },
    "papermill": {
     "duration": 0.566826,
     "end_time": "2021-06-20T03:20:33.375048",
     "exception": false,
     "start_time": "2021-06-20T03:20:32.808222",
     "status": "completed"
    },
    "tags": []
   },
   "outputs": [],
   "source": [
    "from  tensorflow.keras.models import Sequential\n",
    "from  tensorflow.keras.layers import Dense,Bidirectional,LSTM,Activation,Conv1D,MaxPool1D,Dropout\n",
    "from tensorflow.keras.layers import Embedding\n",
    "from tensorflow.keras.optimizers import Adam"
   ]
  },
  {
   "cell_type": "markdown",
   "metadata": {},
   "source": [
    "## Фиксирую random.state \n",
    "# вовремя этого не сделала"
   ]
  },
  {
   "cell_type": "code",
   "execution_count": 272,
   "metadata": {},
   "outputs": [],
   "source": [
    "# Apparently you may use different seed values at each stage\n",
    "seed_value= 12345\n",
    "\n",
    "# 1. Set the `PYTHONHASHSEED` environment variable at a fixed value\n",
    "import os\n",
    "os.environ['PYTHONHASHSEED']=str(seed_value)\n",
    "\n",
    "# 2. Set the `python` built-in pseudo-random generator at a fixed value\n",
    "import random\n",
    "random.seed(seed_value)\n",
    "\n",
    "# 3. Set the `numpy` pseudo-random generator at a fixed value\n",
    "import numpy as np\n",
    "np.random.seed(seed_value)\n",
    "\n",
    "# 4. Set the `tensorflow` pseudo-random generator at a fixed value\n",
    "import tensorflow\n",
    "tensorflow.random.set_seed(seed_value)\n",
    "# for later versions: \n",
    "# tf.compat.v1.set_random_seed(seed_value)\n",
    "\n",
    "# 5. Configure a new global `tensorflow` session\n",
    "from keras import backend as K\n",
    "session_conf = tensorflow.compat.v1.ConfigProto(intra_op_parallelism_threads=1, inter_op_parallelism_threads=1)\n",
    "sess = tensorflow.compat.v1.Session(graph=tensorflow.compat.v1.get_default_graph(), config=session_conf)\n",
    "#K.session(sess)\n",
    "tensorflow.compat.v1.keras.backend.set_session(sess)\n",
    "# for later versions:\n",
    "# session_conf = tf.compat.v1.ConfigProto(intra_op_parallelism_threads=1, inter_op_parallelism_threads=1)\n",
    "# sess = tf.compat.v1.Session(graph=tf.compat.v1.get_default_graph(), config=session_conf)\n",
    "# tf.compat.v1.keras.backend.set_session(sess)"
   ]
  },
  {
   "cell_type": "markdown",
   "metadata": {},
   "source": [
    "# Модель"
   ]
  },
  {
   "cell_type": "markdown",
   "metadata": {},
   "source": [
    "## 1. Вариант переобучался"
   ]
  },
  {
   "cell_type": "code",
   "execution_count": null,
   "metadata": {
    "execution": {
     "iopub.execute_input": "2021-06-20T03:20:34.509504Z",
     "iopub.status.busy": "2021-06-20T03:20:34.508885Z",
     "iopub.status.idle": "2021-06-20T03:20:35.508176Z",
     "shell.execute_reply": "2021-06-20T03:20:35.507527Z",
     "shell.execute_reply.started": "2021-06-20T02:42:21.684921Z"
    },
    "papermill": {
     "duration": 1.579052,
     "end_time": "2021-06-20T03:20:35.508331",
     "exception": false,
     "start_time": "2021-06-20T03:20:33.929279",
     "status": "completed"
    },
    "tags": []
   },
   "outputs": [],
   "source": [
    "# model = Sequential()\n",
    "# model.add(Embedding(vocab_size,embedding_dim,input_length = max_length))\n",
    "# model.add(Bidirectional(LSTM(128,dropout = 0.2, recurrent_dropout = 0.2, return_sequences=True)))\n",
    "# model.add(Bidirectional(LSTM(64, dropout = 0.2, recurrent_dropout = 0.2, return_sequences=False)))\n",
    "# model.add(Dense(128,activation = 'relu'))\n",
    "# model.add(Dense(y_target.shape[1],activation = 'softmax'))\n",
    "\n",
    "# model.compile(loss = 'categorical_crossentropy',\n",
    "#              optimizer = 'adam',\n",
    "#              metrics = ['accuracy'])\n",
    "\n",
    "# model.summary()"
   ]
  },
  {
   "cell_type": "markdown",
   "metadata": {},
   "source": [
    "## 2. Вариант показывал хороший perfomance на validation_set, но плохой на test"
   ]
  },
  {
   "cell_type": "code",
   "execution_count": null,
   "metadata": {},
   "outputs": [],
   "source": [
    "# model = Sequential()\n",
    "# model.add(Embedding(vocab_size,embedding_dim,input_length = max_length))\n",
    "# model.add(LSTM(128,dropout = 0.2, recurrent_dropout = 0.2, return_sequences=True))\n",
    "# model.add(LSTM(64, dropout = 0.2, recurrent_dropout = 0.2, return_sequences=False))\n",
    "# model.add(Dense(128,activation = 'relu'))\n",
    "# model.add(Dense(y_target.shape[1],activation = 'softmax'))\n",
    "\n",
    "# model.compile(loss = 'categorical_crossentropy',\n",
    "#              optimizer = 'adam',\n",
    "#              metrics = ['accuracy'])\n",
    "\n",
    "# model.summary()"
   ]
  },
  {
   "cell_type": "markdown",
   "metadata": {},
   "source": [
    "## 3. Упрастила модель"
   ]
  },
  {
   "cell_type": "code",
   "execution_count": 295,
   "metadata": {},
   "outputs": [
    {
     "name": "stdout",
     "output_type": "stream",
     "text": [
      "Model: \"sequential_25\"\n",
      "_________________________________________________________________\n",
      "Layer (type)                 Output Shape              Param #   \n",
      "=================================================================\n",
      "embedding_25 (Embedding)     (None, 30, 300)           4084200   \n",
      "_________________________________________________________________\n",
      "lstm_27 (LSTM)               (None, 256)               570368    \n",
      "_________________________________________________________________\n",
      "dense_39 (Dense)             (None, 5)                 1285      \n",
      "=================================================================\n",
      "Total params: 4,655,853\n",
      "Trainable params: 4,655,853\n",
      "Non-trainable params: 0\n",
      "_________________________________________________________________\n"
     ]
    }
   ],
   "source": [
    "model = Sequential()\n",
    "model.add(Embedding(vocab_size,embedding_dim,input_length = max_length))\n",
    "model.add(LSTM(256))\n",
    "model.add(Dense(y_target.shape[1],activation = 'sigmoid')) # изменила 'softmax' на 'sigmoid'\n",
    "\n",
    "opt = Adam(lr=0.0005)\n",
    "\n",
    "model.compile(loss = 'categorical_crossentropy',\n",
    "             optimizer = opt,\n",
    "             metrics = ['accuracy'])\n",
    "\n",
    "model.summary()"
   ]
  },
  {
   "cell_type": "code",
   "execution_count": 224,
   "metadata": {
    "execution": {
     "iopub.execute_input": "2021-06-20T03:20:36.610686Z",
     "iopub.status.busy": "2021-06-20T03:20:36.609125Z",
     "iopub.status.idle": "2021-06-20T03:20:36.611405Z",
     "shell.execute_reply": "2021-06-20T03:20:36.611852Z",
     "shell.execute_reply.started": "2021-06-20T02:42:22.518999Z"
    },
    "papermill": {
     "duration": 0.557526,
     "end_time": "2021-06-20T03:20:36.612012",
     "exception": false,
     "start_time": "2021-06-20T03:20:36.054486",
     "status": "completed"
    },
    "tags": []
   },
   "outputs": [],
   "source": [
    "from tensorflow.keras.callbacks import EarlyStopping\n",
    "early_stopping = EarlyStopping(min_delta = 0.001,\n",
    "                               mode = 'max',\n",
    "                               monitor = 'val_acc',\n",
    "                               patience = 2)\n",
    "callback = [early_stopping]"
   ]
  },
  {
   "cell_type": "code",
   "execution_count": 296,
   "metadata": {
    "execution": {
     "iopub.execute_input": "2021-06-20T03:20:37.976341Z",
     "iopub.status.busy": "2021-06-20T03:20:37.975779Z",
     "iopub.status.idle": "2021-06-20T03:37:37.852715Z",
     "shell.execute_reply": "2021-06-20T03:37:37.853656Z",
     "shell.execute_reply.started": "2021-06-20T02:42:22.524737Z"
    },
    "papermill": {
     "duration": 1020.495421,
     "end_time": "2021-06-20T03:37:37.853865",
     "exception": false,
     "start_time": "2021-06-20T03:20:37.358444",
     "status": "completed"
    },
    "tags": []
   },
   "outputs": [
    {
     "name": "stdout",
     "output_type": "stream",
     "text": [
      "Train on 318328 samples, validate on 79582 samples\n",
      "Epoch 1/2\n",
      "318208/318328 [============================>.] - ETA: 0s - loss: 1.0552 - accuracy: 0.5503WARNING:tensorflow:Early stopping conditioned on metric `val_acc` which is not available. Available metrics are: loss,accuracy,val_loss,val_accuracy\n",
      "318328/318328 [==============================] - 159s 500us/sample - loss: 1.0551 - accuracy: 0.5504 - val_loss: 0.8229 - val_accuracy: 0.6664\n",
      "Epoch 2/2\n",
      "318208/318328 [============================>.] - ETA: 0s - loss: 0.7646 - accuracy: 0.6950WARNING:tensorflow:Early stopping conditioned on metric `val_acc` which is not available. Available metrics are: loss,accuracy,val_loss,val_accuracy\n",
      "318328/318328 [==============================] - 160s 501us/sample - loss: 0.7646 - accuracy: 0.6950 - val_loss: 0.7343 - val_accuracy: 0.7081\n",
      "Wall time: 5min 18s\n"
     ]
    }
   ],
   "source": [
    "%%time\n",
    "\n",
    "num_epochs = 2\n",
    "\n",
    "history = model.fit(X_train,y_train,\n",
    "                    validation_data = (X_val, y_val),\n",
    "                    epochs = num_epochs,\n",
    "                    batch_size = 256,\n",
    "                    verbose = 1,\n",
    "                    callbacks = callback)"
   ]
  },
  {
   "cell_type": "code",
   "execution_count": 238,
   "metadata": {
    "execution": {
     "iopub.execute_input": "2021-06-20T03:37:39.923546Z",
     "iopub.status.busy": "2021-06-20T03:37:39.922934Z",
     "iopub.status.idle": "2021-06-20T03:37:40.345703Z",
     "shell.execute_reply": "2021-06-20T03:37:40.346588Z",
     "shell.execute_reply.started": "2021-06-20T02:59:08.820239Z"
    },
    "papermill": {
     "duration": 1.456491,
     "end_time": "2021-06-20T03:37:40.346790",
     "exception": false,
     "start_time": "2021-06-20T03:37:38.890299",
     "status": "completed"
    },
    "tags": []
   },
   "outputs": [
    {
     "data": {
      "image/png": "[encoded data removed]",
      "text/plain": [
       "<Figure size 432x288 with 1 Axes>"
      ]
     },
     "metadata": {
      "needs_background": "light"
     },
     "output_type": "display_data"
    },
    {
     "data": {
      "image/png": "[encoded data removed]",
      "text/plain": [
       "<Figure size 432x288 with 1 Axes>"
      ]
     },
     "metadata": {
      "needs_background": "light"
     },
     "output_type": "display_data"
    }
   ],
   "source": [
    "def plot_graphs(history, string):\n",
    "    plt.plot(history.history[string])\n",
    "    plt.plot(history.history['val_'+string])\n",
    "    plt.xlabel(\"Epochs\")\n",
    "    plt.ylabel(string)\n",
    "    plt.legend([string, 'val_'+string])\n",
    "    plt.show()\n",
    "  \n",
    "plot_graphs(history, 'mae')\n",
    "plot_graphs(history, 'loss')"
   ]
  },
  {
   "cell_type": "code",
   "execution_count": 297,
   "metadata": {
    "execution": {
     "iopub.execute_input": "2021-06-20T03:38:40.094040Z",
     "iopub.status.busy": "2021-06-20T03:38:40.093475Z",
     "iopub.status.idle": "2021-06-20T03:38:40.212966Z",
     "shell.execute_reply": "2021-06-20T03:38:40.213691Z",
     "shell.execute_reply.started": "2021-06-20T03:00:03.922077Z"
    },
    "papermill": {
     "duration": 1.152298,
     "end_time": "2021-06-20T03:38:40.213840",
     "exception": false,
     "start_time": "2021-06-20T03:38:39.061542",
     "status": "completed"
    },
    "tags": []
   },
   "outputs": [],
   "source": [
    "test_id = test_data['PhraseId']\n",
    "y_pred = np.argmax(model.predict(X_test), axis = -1)\n",
    "\n",
    "submission_df = pd.DataFrame({'id': test_id, 'sentiment': y_pred})\n",
    "submission_df[\"sentiment\"]=submission_df[\"sentiment\"]+1\n",
    "submission_df.to_csv('submission.csv', index=False)\n"
   ]
  }
 ],
 "metadata": {
  "kernelspec": {
   "display_name": "Python 3",
   "language": "python",
   "name": "python3"
  },
  "language_info": {
   "codemirror_mode": {
    "name": "ipython",
    "version": 3
   },
   "file_extension": ".py",
   "mimetype": "text/x-python",
   "name": "python",
   "nbconvert_exporter": "python",
   "pygments_lexer": "ipython3",
   "version": "3.7.6"
  },
  "papermill": {
   "default_parameters": {},
   "duration": 1392.815818,
   "end_time": "2021-06-20T03:38:43.691712",
   "environment_variables": {},
   "exception": null,
   "input_path": "__notebook__.ipynb",
   "output_path": "__notebook__.ipynb",
   "parameters": {},
   "start_time": "2021-06-20T03:15:30.875894",
   "version": "2.3.3"
  }
 },
 "nbformat": 4,
 "nbformat_minor": 5
}
